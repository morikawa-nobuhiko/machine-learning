{
 "cells": [
  {
   "cell_type": "code",
   "execution_count": 6,
   "metadata": {},
   "outputs": [],
   "source": [
    "# 必要なライブラリのインポート\n",
    "from sklearn.naive_bayes import GaussianNB\n",
    "from sklearn.model_selection import train_test_split\n",
    "import numpy as np\n",
    "import pandas as pd\n",
    "import matplotlib.pyplot as plt\n",
    "%matplotlib inline"
   ]
  },
  {
   "cell_type": "code",
   "execution_count": 7,
   "metadata": {},
   "outputs": [],
   "source": [
    "# データ読み込み\n",
    "df = pd.read_csv('./data/equip_training.txt')\n",
    "# データとラベルに分類（データの1行目にラベルデータが必要）\n",
    "x = df.loc[:, ['symbol','width','height','unit','amount']]\n",
    "y = df.loc[:, \"ups\"]"
   ]
  },
  {
   "cell_type": "code",
   "execution_count": 8,
   "metadata": {},
   "outputs": [],
   "source": [
    "# 分類\n",
    "train_x, test_x, train_y, test_y = train_test_split(x, y)"
   ]
  },
  {
   "cell_type": "code",
   "execution_count": 9,
   "metadata": {},
   "outputs": [
    {
     "name": "stdout",
     "output_type": "stream",
     "text": [
      "Model fitted.\n"
     ]
    }
   ],
   "source": [
    "# モデルの学習\n",
    "model = GaussianNB()\n",
    "model.fit(x, y)\n",
    "print(\"Model fitted.\")"
   ]
  },
  {
   "cell_type": "code",
   "execution_count": 12,
   "metadata": {},
   "outputs": [
    {
     "name": "stdout",
     "output_type": "stream",
     "text": [
      "0.4182726623840114\n",
      "[\"'0272020002711280'\"]\n"
     ]
    }
   ],
   "source": [
    "# 学習\n",
    "model.fit(train_x,train_y)\n",
    "print(model.score(test_x,test_y))\n",
    "# 未知のデータ\n",
    "# unknown_data = [[402,10.798,0.443,4.783]] # 02170050\n",
    "unknown_data = [[23,0,0,30,1]] # 0271128002720200\n",
    "# 推論\n",
    "print(model.predict(unknown_data))"
   ]
  }
 ],
 "metadata": {
  "kernelspec": {
   "display_name": "Python 3",
   "language": "python",
   "name": "python3"
  },
  "language_info": {
   "codemirror_mode": {
    "name": "ipython",
    "version": 3
   },
   "file_extension": ".py",
   "mimetype": "text/x-python",
   "name": "python",
   "nbconvert_exporter": "python",
   "pygments_lexer": "ipython3",
   "version": "3.7.6"
  }
 },
 "nbformat": 4,
 "nbformat_minor": 4
}
