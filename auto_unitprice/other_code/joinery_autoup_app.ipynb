{
 "cells": [
  {
   "cell_type": "code",
   "execution_count": 1,
   "metadata": {},
   "outputs": [],
   "source": [
    "import os\n",
    "import sys\n",
    "import pickle\n",
    "\n",
    "pickle_file_path = \"joinery_autoup.model\"\n",
    "output_file_path = \"joinery_autoup.txt\""
   ]
  },
  {
   "cell_type": "code",
   "execution_count": 2,
   "metadata": {},
   "outputs": [
    {
     "ename": "SystemExit",
     "evalue": "1",
     "output_type": "error",
     "traceback": [
      "An exception has occurred, use %tb to see the full traceback.\n",
      "\u001b[1;31mSystemExit\u001b[0m\u001b[1;31m:\u001b[0m 1\n"
     ]
    },
    {
     "name": "stderr",
     "output_type": "stream",
     "text": [
      "C:\\ProgramData\\Anaconda3\\lib\\site-packages\\IPython\\core\\interactiveshell.py:3339: UserWarning: To exit: use 'exit', 'quit', or Ctrl-D.\n",
      "  warn(\"To exit: use 'exit', 'quit', or Ctrl-D.\", stacklevel=1)\n"
     ]
    }
   ],
   "source": [
    "# 前回の推論結果ファイルを削除\n",
    "if os.path.isfile(output_file_path):\n",
    "    os.remove(output_file_path)\n",
    "\n",
    "# 引数 0番目はPythonファイル名\n",
    "args = sys.argv\n",
    "# print(args[0])\n",
    "# print(args[1:-1])\n",
    "\n",
    "# 引数の数が足りない場合は処理を終える\n",
    "if len(args) <=7:\n",
    "    sys.exit(1)\n",
    "    \n",
    "# args\n",
    "# print(len(args))\n",
    "# print(args[0])\n",
    "# print(args[1])\n",
    "# print(args[2])"
   ]
  },
  {
   "cell_type": "code",
   "execution_count": null,
   "metadata": {},
   "outputs": [],
   "source": [
    "# 学習済みモデルから推論\n",
    "# pattern,height,width,top,material,wood,sizecategory,door\n",
    "model = pickle.load(open(pickle_file_path,'rb'))\n",
    "unknown_data = [args[1:-1]]\n",
    "output = model.predict(unknown_data)\n",
    "# print(type(output))\n",
    "# print('推論結果:' + str(output))\n",
    "\n",
    "# テキスト出力\n",
    "f = open(output_file_path, 'w') # 書き込みモードで開く\n",
    "f.write(str(output[0])) # 引数の文字列をファイルに書き込む\n",
    "f.close() # ファイルを閉じる\n"
   ]
  }
 ],
 "metadata": {
  "kernelspec": {
   "display_name": "Python 3",
   "language": "python",
   "name": "python3"
  },
  "language_info": {
   "codemirror_mode": {
    "name": "ipython",
    "version": 3
   },
   "file_extension": ".py",
   "mimetype": "text/x-python",
   "name": "python",
   "nbconvert_exporter": "python",
   "pygments_lexer": "ipython3",
   "version": "3.7.6"
  }
 },
 "nbformat": 4,
 "nbformat_minor": 4
}
