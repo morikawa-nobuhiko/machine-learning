{
 "cells": [
  {
   "cell_type": "code",
   "execution_count": 1,
   "metadata": {
    "colab": {},
    "colab_type": "code",
    "id": "ctVgDQP3ktbl"
   },
   "outputs": [],
   "source": [
    "import sys\n",
    "import numpy as np\n",
    "import pandas as pd\n",
    "import dill\n",
    "# Scikit-learn\n",
    "from sklearn.model_selection import train_test_split\n",
    "from sklearn.ensemble import RandomForestClassifier\n",
    "from sklearn.metrics import accuracy_score, confusion_matrix\n",
    "from sklearn.model_selection import GridSearchCV, RandomizedSearchCV, KFold\n",
    "# Matplotlibのインライン表示\n",
    "%matplotlib inline"
   ]
  },
  {
   "cell_type": "code",
   "execution_count": 2,
   "metadata": {
    "colab": {},
    "colab_type": "code",
    "id": "JOLsQtXHiVgs"
   },
   "outputs": [
    {
     "name": "stdout",
     "output_type": "stream",
     "text": [
      "(1545, 6)\n"
     ]
    }
   ],
   "source": [
    "# データ読み込み\n",
    "df = pd.read_csv('./data/equip_training.txt')\n",
    "# データの重複を確認\n",
    "# print(df.duplicated())\n",
    "# print(df[df.duplicated()])\n",
    "# データの重複を削除\n",
    "print(df[~df.duplicated()].shape)\n",
    "# データとラベルに分類（データの1行目にラベルデータが必要）\n",
    "x = df.loc[:, ['symbol','width','height','unit','amount']]\n",
    "y = df.loc[:, \"ups\"]"
   ]
  },
  {
   "cell_type": "code",
   "execution_count": 3,
   "metadata": {},
   "outputs": [],
   "source": [
    "# 分類\n",
    "# train_x, test_x, train_y, test_y = train_test_split(x, y)\n",
    "# シャッフルされる場合、デフォルトでは実行するたびにランダムに分割される。引数random_seedを指定して乱数シードを固定すると常に同じように分割される。\n",
    "seed = 42\n",
    "train_x, test_x, train_y, test_y = train_test_split(x, y, random_state=seed)"
   ]
  },
  {
   "cell_type": "code",
   "execution_count": 4,
   "metadata": {},
   "outputs": [],
   "source": [
    "# # ハイパーパラメータをグリッドサーチを用いて調査\n",
    "# from sklearn.model_selection import GridSearchCV\n",
    "# search_params = {\n",
    "#       'n_estimators'      : [5, 10, 20, 30, 50, 100, 300],\n",
    "#       'max_features'      : [3, 5, 10, 15, 20],\n",
    "#       'random_state'      : [seed],\n",
    "#       'n_jobs'            : [1],\n",
    "#       'min_samples_split' : [3, 5, 10, 15, 20, 25, 30, 40, 50, 100],\n",
    "#       'max_depth'         : [3, 5, 10, 15, 20, 25, 30, 40, 50, 100]\n",
    "# }\n",
    "# gs = GridSearchCV(RandomForestClassifier(),  # 対象の機械学習モデル\n",
    "#                   search_params,             # 探索パラメタ辞書\n",
    "#                   cv=3,                      # クロスバリデーションの分割数\n",
    "#                   verbose=True,              # ログ表示\n",
    "#                   n_jobs=-1)                 # 並列処理\n",
    "# gs.fit(train_x, train_y)\n",
    " \n",
    "# print(gs.best_estimator_)"
   ]
  },
  {
   "cell_type": "code",
   "execution_count": 5,
   "metadata": {},
   "outputs": [
    {
     "name": "stdout",
     "output_type": "stream",
     "text": [
      "0.550321199143469\n",
      "[\"'0271128002720200'\"]\n"
     ]
    }
   ],
   "source": [
    "# ハイパーパラメータチューニング\n",
    "clf = RandomForestClassifier(bootstrap=True, ccp_alpha=0.0, class_weight=None,\n",
    "                             criterion='gini', max_depth=20, max_features=5,\n",
    "                             max_leaf_nodes=None, max_samples=None,\n",
    "                             min_impurity_decrease=0.0, min_impurity_split=None,\n",
    "                             min_samples_leaf=1, min_samples_split=3,\n",
    "                             min_weight_fraction_leaf=0.0, n_estimators=300, n_jobs=-1,\n",
    "                             oob_score=False, random_state=seed, verbose=0,\n",
    "                             warm_start=False)\n",
    "\n",
    "# 学習\n",
    "clf.fit(train_x,train_y)\n",
    "print(clf.score(test_x,test_y))\n",
    "# 未知のデータ\n",
    "# unknown_data = [[402,10.798,0.443,4.783]] # 02170050\n",
    "# unknown_data = [[23,0,0,30,1]]      # 0271128002720200\n",
    "unknown_data = [[23,0,0,30,1]]       # 0271128002720200\n",
    "# 推論\n",
    "print(clf.predict(unknown_data))"
   ]
  },
  {
   "cell_type": "code",
   "execution_count": 6,
   "metadata": {
    "colab": {},
    "colab_type": "code",
    "id": "KdLKZlXZd7_6"
   },
   "outputs": [],
   "source": [
    "# モデルを保存する\n",
    "fp = 'equip_autoup.model'\n",
    "# pickle.dump(clf, open(fp, 'wb'))\n",
    "dill.dump(clf, open(fp,'wb'))"
   ]
  },
  {
   "cell_type": "code",
   "execution_count": 7,
   "metadata": {
    "colab": {},
    "colab_type": "code",
    "id": "PTn_6RGO4KWC"
   },
   "outputs": [],
   "source": [
    "# 学習済みモデルを復元する\n",
    "# model = pickle.load(open(fp,'rb'))\n",
    "# model = dill.load(open(fp,'rb'))"
   ]
  }
 ],
 "metadata": {
  "accelerator": "GPU",
  "colab": {
   "collapsed_sections": [],
   "name": "height_weight_age_training.ipynb",
   "provenance": []
  },
  "kernelspec": {
   "display_name": "Python 3",
   "language": "python",
   "name": "python3"
  },
  "language_info": {
   "codemirror_mode": {
    "name": "ipython",
    "version": 3
   },
   "file_extension": ".py",
   "mimetype": "text/x-python",
   "name": "python",
   "nbconvert_exporter": "python",
   "pygments_lexer": "ipython3",
   "version": "3.7.6"
  }
 },
 "nbformat": 4,
 "nbformat_minor": 1
}
