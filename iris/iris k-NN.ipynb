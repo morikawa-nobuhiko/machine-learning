{
 "cells": [
  {
   "cell_type": "code",
   "execution_count": 1,
   "metadata": {},
   "outputs": [
    {
     "name": "stdout",
     "output_type": "stream",
     "text": [
      "0.9210526315789473\n",
      "[0]\n"
     ]
    }
   ],
   "source": [
    "import numpy as np\n",
    "import matplotlib.pyplot as plt\n",
    "from sklearn.datasets import load_iris\n",
    "from sklearn.neighbors import KNeighborsClassifier\n",
    "from sklearn.model_selection import train_test_split\n",
    "\n",
    "#インスタンス\n",
    "iris = load_iris()\n",
    "\n",
    "#デフォルトでは25％をテストデータに割り当てるの、112/150=学習データ 28/150=テストデータ\n",
    "x_train, x_test, y_train, y_test = train_test_split(iris.data, iris.target)\n",
    "\n",
    "# n_neighbors=3 --> 最寄りの3点で比較する\n",
    "clf = KNeighborsClassifier(n_neighbors=3)\n",
    "\n",
    "#学習\n",
    "clf.fit(x_train, y_train)\n",
    "\n",
    "#スコア表示\n",
    "print(clf.score(x_test, y_test))\n",
    "\n",
    "#未知のデータ\n",
    "unknown_data = [[5.0, 4.1, 1.5 ,0.5]]\n",
    "\n",
    "#予測（推論）させる\n",
    "#ここでは0のsetosaになった\n",
    "print(clf.predict(unknown_data))\n"
   ]
  },
  {
   "cell_type": "code",
   "execution_count": null,
   "metadata": {},
   "outputs": [],
   "source": []
  }
 ],
 "metadata": {
  "kernelspec": {
   "display_name": "Python 3",
   "language": "python",
   "name": "python3"
  },
  "language_info": {
   "codemirror_mode": {
    "name": "ipython",
    "version": 3
   },
   "file_extension": ".py",
   "mimetype": "text/x-python",
   "name": "python",
   "nbconvert_exporter": "python",
   "pygments_lexer": "ipython3",
   "version": "3.7.3"
  }
 },
 "nbformat": 4,
 "nbformat_minor": 2
}
