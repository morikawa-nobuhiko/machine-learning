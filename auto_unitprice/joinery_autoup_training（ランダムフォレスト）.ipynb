{
 "cells": [
  {
   "cell_type": "code",
   "execution_count": 1,
   "metadata": {
    "colab": {},
    "colab_type": "code",
    "id": "ctVgDQP3ktbl"
   },
   "outputs": [],
   "source": [
    "import sys\n",
    "import numpy as np\n",
    "import pandas as pd\n",
    "import dill\n",
    "from sklearn.model_selection import train_test_split\n",
    "from sklearn.ensemble import RandomForestClassifier\n",
    "# import matplotlib.pyplot as plt\n",
    "# import pickle\n",
    "# from tqdm import tqdm"
   ]
  },
  {
   "cell_type": "code",
   "execution_count": 2,
   "metadata": {
    "colab": {},
    "colab_type": "code",
    "id": "JOLsQtXHiVgs"
   },
   "outputs": [],
   "source": [
    "# データ読み込み\n",
    "df = pd.read_csv('./data/joinery_training.txt')\n",
    "# データとラベルに分類（データの1行目にラベルデータが必要）\n",
    "x = df.loc[:, ['symbol','block','door','pl','pc','height','width','top','material','wood','sizecategory']]\n",
    "y = df.loc[:, \"ups\"]\n",
    "# print(x.shape)\n",
    "# print(y.shape)"
   ]
  },
  {
   "cell_type": "code",
   "execution_count": 3,
   "metadata": {},
   "outputs": [],
   "source": [
    "# 分類\n",
    "train_x, test_x, train_y, test_y = train_test_split(x, y)\n",
    "# train_x, test_x, train_y, test_y = train_test_split(x, y, test_size=0.2)\n",
    "# x_train.head()\n",
    "# y_train.head()"
   ]
  },
  {
   "cell_type": "code",
   "execution_count": 4,
   "metadata": {},
   "outputs": [],
   "source": [
    "# # ランダムフォレスト（パラメーターはほぼ初期値）\n",
    "# clf = RandomForestClassifier(random_state=2525, n_jobs=-1)\n",
    "# # 学習\n",
    "# clf.fit(train_x,train_y)\n",
    "# print(clf.score(test_x,test_y))\n",
    "# # 未知のデータ\n",
    "# unknown_data = [[9,3,1,6,0,0.35,0.82,2.15,2,1,2]] # 02510180\n",
    "# # 推論\n",
    "# print(clf.predict(unknown_data))"
   ]
  },
  {
   "cell_type": "code",
   "execution_count": 5,
   "metadata": {},
   "outputs": [],
   "source": [
    "# # ハイパーパラメータをグリッドサーチを用いて調査\n",
    "# from sklearn.model_selection import GridSearchCV\n",
    "# search_params = {\n",
    "#      'n_estimators'      : [5, 10, 20, 30, 50, 100, 300],\n",
    "#       'max_features'      : [3, 5, 10, 15, 20],\n",
    "#       'random_state'      : [2525],\n",
    "#       'n_jobs'            : [1],\n",
    "#       'min_samples_split' : [3, 5, 10, 15, 20, 25, 30, 40, 50, 100],\n",
    "#       'max_depth'         : [3, 5, 10, 15, 20, 25, 30, 40, 50, 100]\n",
    "# }\n",
    "# gs = GridSearchCV(RandomForestClassifier(),  # 対象の機械学習モデル\n",
    "#                   search_params,             # 探索パラメタ辞書\n",
    "#                   cv=3,                      # クロスバリデーションの分割数\n",
    "#                   verbose=True,              # ログ表示\n",
    "#                   n_jobs=-1)                 # 並列処理\n",
    "# gs.fit(train_x, train_y)\n",
    " \n",
    "# print(gs.best_estimator_)"
   ]
  },
  {
   "cell_type": "code",
   "execution_count": 6,
   "metadata": {},
   "outputs": [
    {
     "name": "stdout",
     "output_type": "stream",
     "text": [
      "0.8192307692307692\n",
      "[\"'0254046002540500'\"]\n"
     ]
    }
   ],
   "source": [
    "# ハイパーパラメータチューニング\n",
    "clf = RandomForestClassifier(bootstrap=True, ccp_alpha=0.0, class_weight=None,\n",
    "                             criterion='gini', max_depth=20, max_features=5,\n",
    "                             max_leaf_nodes=None, max_samples=None,\n",
    "                             min_impurity_decrease=0.0, min_impurity_split=None,\n",
    "                             min_samples_leaf=1, min_samples_split=3,\n",
    "                             min_weight_fraction_leaf=0.0, n_estimators=300, n_jobs=-1,\n",
    "                             oob_score=False, random_state=2525, verbose=0,\n",
    "                             warm_start=False)\n",
    "\n",
    "# 学習\n",
    "clf.fit(train_x,train_y)\n",
    "print(clf.score(test_x,test_y))\n",
    "# 未知のデータ\n",
    "# unknown_data = [[9,3,1,6,0,0.35,0.82,2.15,2,1,2]] # 02510180\n",
    "# unknown_data = [[7,2,1,3,0,2.3,2.475,2.3,1,5,1]] # 0254046002540500\n",
    "unknown_data = [[7,0,0,0,0,2.3,2.475,0,0,0,0]] # 0254046002540500\n",
    "# 推論\n",
    "print(clf.predict(unknown_data))"
   ]
  },
  {
   "cell_type": "code",
   "execution_count": 7,
   "metadata": {
    "colab": {},
    "colab_type": "code",
    "id": "KdLKZlXZd7_6"
   },
   "outputs": [],
   "source": [
    "# モデルを保存する\n",
    "fp = 'joinery_autoup.model'\n",
    "# pickle.dump(clf, open(fp, 'wb'))\n",
    "dill.dump(clf, open(fp,'wb'))"
   ]
  },
  {
   "cell_type": "code",
   "execution_count": 8,
   "metadata": {
    "colab": {},
    "colab_type": "code",
    "id": "PTn_6RGO4KWC"
   },
   "outputs": [],
   "source": [
    "# 学習済みモデルを復元する\n",
    "# model = pickle.load(open(fp,'rb'))\n",
    "# model = dill.load(open(fp,'rb'))"
   ]
  }
 ],
 "metadata": {
  "accelerator": "GPU",
  "colab": {
   "collapsed_sections": [],
   "name": "height_weight_age_training.ipynb",
   "provenance": []
  },
  "kernelspec": {
   "display_name": "Python 3",
   "language": "python",
   "name": "python3"
  },
  "language_info": {
   "codemirror_mode": {
    "name": "ipython",
    "version": 3
   },
   "file_extension": ".py",
   "mimetype": "text/x-python",
   "name": "python",
   "nbconvert_exporter": "python",
   "pygments_lexer": "ipython3",
   "version": "3.7.6"
  }
 },
 "nbformat": 4,
 "nbformat_minor": 1
}
