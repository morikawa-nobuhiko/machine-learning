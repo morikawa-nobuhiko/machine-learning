{
 "cells": [
  {
   "cell_type": "code",
   "execution_count": 1,
   "metadata": {
    "colab": {},
    "colab_type": "code",
    "id": "ctVgDQP3ktbl"
   },
   "outputs": [],
   "source": [
    "import sys\n",
    "import numpy as np\n",
    "import pandas as pd\n",
    "import dill\n",
    "from sklearn.model_selection import train_test_split\n",
    "from sklearn.ensemble import RandomForestClassifier"
   ]
  },
  {
   "cell_type": "code",
   "execution_count": 2,
   "metadata": {},
   "outputs": [
    {
     "name": "stdout",
     "output_type": "stream",
     "text": [
      "(1511, 9)\n"
     ]
    }
   ],
   "source": [
    "# データ読み込み\n",
    "df = pd.read_csv('./data/room_training.txt')\n",
    "# データの重複を確認\n",
    "# print(df.duplicated())\n",
    "# print(df[df.duplicated()])\n",
    "# データの重複を削除\n",
    "print(df[~df.duplicated()].shape)\n",
    "# データとラベルに分類（データの1行目にラベルデータが必要）\n",
    "x = df.loc[:, ['uses','floor','name','ceiling','width','height','hip','points']]\n",
    "y = df.loc[:, \"ups\"]"
   ]
  },
  {
   "cell_type": "code",
   "execution_count": 3,
   "metadata": {
    "colab": {},
    "colab_type": "code",
    "id": "JOLsQtXHiVgs"
   },
   "outputs": [],
   "source": [
    "# 分類\n",
    "train_x, test_x, train_y, test_y = train_test_split(x, y)\n",
    "# train_x, test_x, train_y, test_y = train_test_split(x, y, test_size=0.2)\n",
    "# シャッフルされる場合、デフォルトでは実行するたびにランダムに分割される。引数random_seedを指定して乱数シードを固定すると常に同じように分割される。\n",
    "seed = 42\n",
    "train_x, test_x, train_y, test_y = train_test_split(x, y, random_state=seed)\n",
    "# train_x.head()\n",
    "# train_y.head()"
   ]
  },
  {
   "cell_type": "code",
   "execution_count": 4,
   "metadata": {
    "scrolled": true
   },
   "outputs": [
    {
     "name": "stdout",
     "output_type": "stream",
     "text": [
      "0.06613756613756613\n",
      "[\"'002640300102631190202630290'\"]\n"
     ]
    }
   ],
   "source": [
    "# ランダムフォレスト（パラメーターはほぼ初期値）\n",
    "clf = RandomForestClassifier(random_state=seed, n_jobs=-1)\n",
    "# 学習\n",
    "clf.fit(train_x,train_y)\n",
    "print(clf.score(test_x,test_y))\n",
    "# 未知のデータ\n",
    "unknown_data = [[1,1,1,2.4,2.73,2.73,0,4]] # 002640300102631190202630290\n",
    "# 推論\n",
    "print(clf.predict(unknown_data))"
   ]
  },
  {
   "cell_type": "code",
   "execution_count": 27,
   "metadata": {
    "colab": {
     "base_uri": "https://localhost:8080/",
     "height": 52
    },
    "colab_type": "code",
    "id": "NiWvtFLTd8FN",
    "outputId": "4e08eb56-a00b-44a0-8525-18bf53c724f3"
   },
   "outputs": [
    {
     "name": "stdout",
     "output_type": "stream",
     "text": [
      "Fitting 3 folds for each of 3500 candidates, totalling 10500 fits\n"
     ]
    },
    {
     "name": "stderr",
     "output_type": "stream",
     "text": [
      "C:\\ProgramData\\Anaconda3\\lib\\site-packages\\sklearn\\model_selection\\_split.py:667: UserWarning: The least populated class in y has only 1 members, which is less than n_splits=3.\n",
      "  % (min_groups, self.n_splits)), UserWarning)\n",
      "[Parallel(n_jobs=-1)]: Using backend LokyBackend with 6 concurrent workers.\n",
      "[Parallel(n_jobs=-1)]: Done  38 tasks      | elapsed:    3.1s\n",
      "[Parallel(n_jobs=-1)]: Done 188 tasks      | elapsed:   12.9s\n",
      "[Parallel(n_jobs=-1)]: Done 438 tasks      | elapsed:   28.9s\n",
      "[Parallel(n_jobs=-1)]: Done 1388 tasks      | elapsed:   55.6s\n",
      "[Parallel(n_jobs=-1)]: Done 2462 tasks      | elapsed:  1.6min\n",
      "[Parallel(n_jobs=-1)]: Done 3786 tasks      | elapsed:  2.4min\n",
      "[Parallel(n_jobs=-1)]: Done 5564 tasks      | elapsed:  3.8min\n",
      "[Parallel(n_jobs=-1)]: Done 7586 tasks      | elapsed:  5.2min\n",
      "[Parallel(n_jobs=-1)]: Done 9666 tasks      | elapsed:  6.9min\n",
      "[Parallel(n_jobs=-1)]: Done 10500 out of 10500 | elapsed:  7.3min finished\n"
     ]
    },
    {
     "name": "stdout",
     "output_type": "stream",
     "text": [
      "RandomForestClassifier(bootstrap=True, ccp_alpha=0.0, class_weight=None,\n",
      "                       criterion='gini', max_depth=15, max_features=3,\n",
      "                       max_leaf_nodes=None, max_samples=None,\n",
      "                       min_impurity_decrease=0.0, min_impurity_split=None,\n",
      "                       min_samples_leaf=1, min_samples_split=20,\n",
      "                       min_weight_fraction_leaf=0.0, n_estimators=300, n_jobs=1,\n",
      "                       oob_score=False, random_state=42, verbose=0,\n",
      "                       warm_start=False)\n"
     ]
    }
   ],
   "source": [
    "# ハイパーパラメータをグリッドサーチを用いて調査\n",
    "# from sklearn.model_selection import GridSearchCV\n",
    "# search_params = {\n",
    "#       'n_estimators'      : [5, 10, 20, 30, 50, 100, 300],\n",
    "#       'max_features'      : [3, 5, 10, 15, 20],\n",
    "#       'random_state'      : [seed],\n",
    "#       'n_jobs'            : [1],\n",
    "#       'min_samples_split' : [3, 5, 10, 15, 20, 25, 30, 40, 50, 100],\n",
    "#       'max_depth'         : [3, 5, 10, 15, 20, 25, 30, 40, 50, 100]\n",
    "# }\n",
    "# gs = GridSearchCV(RandomForestClassifier(),  # 対象の機械学習モデル\n",
    "#                   search_params,             # 探索パラメタ辞書\n",
    "#                   cv=3,                      # クロスバリデーションの分割数\n",
    "#                   verbose=True,              # ログ表示\n",
    "#                   n_jobs=-1)                 # 並列処理\n",
    "# gs.fit(train_x, train_y)\n",
    " \n",
    "# print(gs.best_estimator_)"
   ]
  },
  {
   "cell_type": "code",
   "execution_count": 5,
   "metadata": {
    "colab": {},
    "colab_type": "code",
    "id": "KdLKZlXZd7_6"
   },
   "outputs": [
    {
     "name": "stdout",
     "output_type": "stream",
     "text": [
      "0.07407407407407407\n",
      "[\"'002640300102631190202630290'\"]\n"
     ]
    }
   ],
   "source": [
    "# ハイパーパラメータチューニング\n",
    "clf = RandomForestClassifier(bootstrap=True, ccp_alpha=0.0, class_weight=None,\n",
    "                             criterion='gini', max_depth=15, max_features=3,\n",
    "                             max_leaf_nodes=None, max_samples=None,\n",
    "                             min_impurity_decrease=0.0, min_impurity_split=None,\n",
    "                             min_samples_leaf=1, min_samples_split=20,\n",
    "                             min_weight_fraction_leaf=0.0, n_estimators=300, n_jobs=-1,\n",
    "                             oob_score=False, random_state=seed, verbose=0,\n",
    "                             warm_start=False)\n",
    "\n",
    "# 学習\n",
    "clf.fit(train_x,train_y)\n",
    "print(clf.score(test_x,test_y))\n",
    "# 未知のデータ\n",
    "unknown_data = [[1,1,1,2.4,2.73,2.73,0,4]] # 002640300102631190202630290\n",
    "# 推論\n",
    "print(clf.predict(unknown_data))"
   ]
  },
  {
   "cell_type": "code",
   "execution_count": 43,
   "metadata": {
    "colab": {},
    "colab_type": "code",
    "id": "PTn_6RGO4KWC"
   },
   "outputs": [],
   "source": [
    "# モデルを保存する\n",
    "fp = 'joinery_autoup.model'\n",
    "# pickle.dump(clf, open(fp, 'wb'))\n",
    "dill.dump(clf, open(fp,'wb'))"
   ]
  }
 ],
 "metadata": {
  "accelerator": "GPU",
  "colab": {
   "collapsed_sections": [],
   "name": "height_weight_age_training.ipynb",
   "provenance": []
  },
  "kernelspec": {
   "display_name": "Python 3",
   "language": "python",
   "name": "python3"
  },
  "language_info": {
   "codemirror_mode": {
    "name": "ipython",
    "version": 3
   },
   "file_extension": ".py",
   "mimetype": "text/x-python",
   "name": "python",
   "nbconvert_exporter": "python",
   "pygments_lexer": "ipython3",
   "version": "3.7.6"
  }
 },
 "nbformat": 4,
 "nbformat_minor": 1
}
